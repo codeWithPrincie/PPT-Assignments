{
 "cells": [
  {
   "cell_type": "markdown",
   "id": "d120abe2",
   "metadata": {},
   "source": [
    "**Question 1**\n",
    "\n",
    "Given a singly linked list, delete **middle** of the linked list. For example, if given linked list is 1->2->**3**->4->5 then linked list should be modified to 1->2->4->5.If there are **even** nodes, then there would be **two middle** nodes, we need to delete the second middle element. For example, if given linked list is 1->2->3->4->5->6 then it should be modified to 1->2->3->5->6.If the input linked list is NULL or has 1 node, then it should return NULL\n",
    "\n",
    "**Example 1:**\n",
    "\n",
    "Input:\n",
    "LinkedList: 1->2->3->4->5\n",
    "Output:1 2 4 5\n",
    "\n",
    "**Example 2:**\n",
    "    \n",
    "Input:\n",
    "LinkedList: 2->4->6->7->5->1\n",
    "Output:2 4 6 5 1\n"
   ]
  },
  {
   "cell_type": "code",
   "execution_count": 1,
   "id": "4a3d51ec",
   "metadata": {},
   "outputs": [],
   "source": [
    "class ListNode:\n",
    "    def __init__(self, data=None):\n",
    "        self.data = data\n",
    "        self.next = None\n",
    "\n",
    "def delete_middle_node(head):\n",
    "    if head is None or head.next is None:\n",
    "        return None  # Return None if the input linked list is empty or has only one node\n",
    "\n",
    "    slow_ptr = head\n",
    "    fast_ptr = head\n",
    "    prev_ptr = None\n",
    "\n",
    "    while fast_ptr is not None and fast_ptr.next is not None:\n",
    "        fast_ptr = fast_ptr.next.next\n",
    "        prev_ptr = slow_ptr\n",
    "        slow_ptr = slow_ptr.next\n",
    "\n",
    "    # Delete the middle node(s)\n",
    "    prev_ptr.next = slow_ptr.next\n",
    "\n",
    "    return head"
   ]
  },
  {
   "cell_type": "code",
   "execution_count": 2,
   "id": "a10d9ecb",
   "metadata": {},
   "outputs": [
    {
     "name": "stdout",
     "output_type": "stream",
     "text": [
      "1 2 4 5 "
     ]
    }
   ],
   "source": [
    "# Create the linked list: 1->2->3->4->5\n",
    "head = ListNode(1)\n",
    "head.next = ListNode(2)\n",
    "head.next.next = ListNode(3)\n",
    "head.next.next.next = ListNode(4)\n",
    "head.next.next.next.next = ListNode(5)\n",
    "\n",
    "new_head = delete_middle_node(head)\n",
    "\n",
    "# Print the modified linked list\n",
    "while new_head is not None:\n",
    "    print(new_head.data, end=\" \")\n",
    "    new_head = new_head.next\n",
    "\n",
    "# Output: 1 2 4 5"
   ]
  },
  {
   "cell_type": "code",
   "execution_count": 3,
   "id": "b1423442",
   "metadata": {},
   "outputs": [
    {
     "name": "stdout",
     "output_type": "stream",
     "text": [
      "2 4 6 5 1 "
     ]
    }
   ],
   "source": [
    "# Create the linked list: 2->4->6->7->5->1\n",
    "head = ListNode(2)\n",
    "head.next = ListNode(4)\n",
    "head.next.next = ListNode(6)\n",
    "head.next.next.next = ListNode(7)\n",
    "head.next.next.next.next = ListNode(5)\n",
    "head.next.next.next.next.next = ListNode(1)\n",
    "\n",
    "new_head = delete_middle_node(head)\n",
    "\n",
    "# Print the modified linked list\n",
    "while new_head is not None:\n",
    "    print(new_head.data, end=\" \")\n",
    "    new_head = new_head.next\n",
    "\n",
    "# Output: 2 4 6 5 1"
   ]
  },
  {
   "cell_type": "markdown",
   "id": "ed922491",
   "metadata": {},
   "source": [
    "**Question 2**\n",
    "\n",
    "Given a linked list of **N** nodes. The task is to check if the linked list has a loop. Linked list can contain self loop.\n",
    "\n",
    "**Example 1:**\n",
    "\n",
    "Input:\n",
    "N = 3\n",
    "value[] = {1,3,4}\n",
    "x(position at which tail is connected) = 2\n",
    "Output:True\n",
    "Explanation:In above test case N = 3.\n",
    "The linked list with nodes N = 3 is\n",
    "given. Then value of x=2 is given which\n",
    "means last node is connected with xth\n",
    "node of linked list. Therefore, there\n",
    "exists a loop.\n",
    "\n",
    "**Example 2:**\n",
    "    \n",
    "Input:\n",
    "N = 4\n",
    "value[] = {1,8,3,4}\n",
    "x = 0\n",
    "Output:False\n",
    "Explanation:For N = 4 ,x = 0 means\n",
    "then lastNode->next = NULL, then\n",
    "the Linked list does not contains\n",
    "any loop.\n"
   ]
  },
  {
   "cell_type": "code",
   "execution_count": 4,
   "id": "49dac2e5",
   "metadata": {},
   "outputs": [],
   "source": [
    "class ListNode:\n",
    "    def __init__(self, data=None):\n",
    "        self.data = data\n",
    "        self.next = None\n",
    "\n",
    "def has_loop(head):\n",
    "    slow_ptr = head\n",
    "    fast_ptr = head\n",
    "\n",
    "    while fast_ptr is not None and fast_ptr.next is not None:\n",
    "        slow_ptr = slow_ptr.next\n",
    "        fast_ptr = fast_ptr.next.next\n",
    "\n",
    "        if slow_ptr == fast_ptr:\n",
    "            return True\n",
    "\n",
    "    return False"
   ]
  },
  {
   "cell_type": "code",
   "execution_count": 5,
   "id": "1577d88b",
   "metadata": {},
   "outputs": [
    {
     "name": "stdout",
     "output_type": "stream",
     "text": [
      "True\n",
      "False\n"
     ]
    }
   ],
   "source": [
    "# Create the linked list: 1->3->4 with a loop at position 2 (connecting tail to the second node)\n",
    "head = ListNode(1)\n",
    "head.next = ListNode(3)\n",
    "head.next.next = ListNode(4)\n",
    "head.next.next.next = head.next\n",
    "\n",
    "has_loop_flag = has_loop(head)\n",
    "print(has_loop_flag)\n",
    "\n",
    "# Create the linked list: 1->8->3->4 without any loop\n",
    "head = ListNode(1)\n",
    "head.next = ListNode(8)\n",
    "head.next.next = ListNode(3)\n",
    "head.next.next.next = ListNode(4)\n",
    "\n",
    "has_loop_flag = has_loop(head)\n",
    "print(has_loop_flag)\n",
    "\n"
   ]
  },
  {
   "cell_type": "markdown",
   "id": "ed66292d",
   "metadata": {},
   "source": [
    "**Question 3**\n",
    "\n",
    "Given a linked list consisting of **L** nodes and given a number **N**. The task is to find the **N**th node from the end of the linked list.\n",
    "\n",
    "**Example 1:**\n",
    "    \n",
    "Input:\n",
    "N = 2\n",
    "LinkedList: 1->2->3->4->5->6->7->8->9\n",
    "Output:8\n",
    "Explanation:In the first example, there\n",
    "are 9 nodes in linked list and we need\n",
    "to find 2nd node from end. 2nd node\n",
    "from end is 8.\n",
    "\n",
    "**Example 2:**\n",
    "    \n",
    "Input:\n",
    "N = 5\n",
    "LinkedList: 10->5->100->5\n",
    "Output:-1\n",
    "Explanation:In the second example, there\n",
    "are 4 nodes in the linked list and we\n",
    "need to find 5th from the end. Since 'n'\n",
    "is more than the number of nodes in the\n",
    "linked list, the output is -1.\n"
   ]
  },
  {
   "cell_type": "code",
   "execution_count": 6,
   "id": "332d4055",
   "metadata": {},
   "outputs": [],
   "source": [
    "class ListNode:\n",
    "    def __init__(self, data=None):\n",
    "        self.data = data\n",
    "        self.next = None\n",
    "\n",
    "def find_nth_node_from_end(head, N):\n",
    "    fast_ptr = head\n",
    "    slow_ptr = head\n",
    "\n",
    "    # Move the fast_ptr N positions ahead\n",
    "    for _ in range(N):\n",
    "        if fast_ptr is None:\n",
    "            return -1\n",
    "        fast_ptr = fast_ptr.next\n",
    "\n",
    "    # Move both pointers until fast_ptr reaches the end\n",
    "    while fast_ptr is not None:\n",
    "        fast_ptr = fast_ptr.next\n",
    "        slow_ptr = slow_ptr.next\n",
    "\n",
    "    return slow_ptr.data if slow_ptr is not None else -1"
   ]
  },
  {
   "cell_type": "code",
   "execution_count": 7,
   "id": "52ed720c",
   "metadata": {},
   "outputs": [
    {
     "name": "stdout",
     "output_type": "stream",
     "text": [
      "8\n",
      "-1\n"
     ]
    }
   ],
   "source": [
    "# Create the linked list: 1->2->3->4->5->6->7->8->9\n",
    "head = ListNode(1)\n",
    "head.next = ListNode(2)\n",
    "head.next.next = ListNode(3)\n",
    "head.next.next.next = ListNode(4)\n",
    "head.next.next.next.next = ListNode(5)\n",
    "head.next.next.next.next.next = ListNode(6)\n",
    "head.next.next.next.next.next.next = ListNode(7)\n",
    "head.next.next.next.next.next.next.next = ListNode(8)\n",
    "head.next.next.next.next.next.next.next.next = ListNode(9)\n",
    "\n",
    "N = 2\n",
    "nth_node = find_nth_node_from_end(head, N)\n",
    "print(nth_node)\n",
    "\n",
    "head = ListNode(10)\n",
    "head.next = ListNode(5)\n",
    "head.next.next = ListNode(100)\n",
    "head.next.next.next = ListNode(5)\n",
    "\n",
    "N = 5\n",
    "nth_node = find_nth_node_from_end(head, N)\n",
    "print(nth_node)"
   ]
  },
  {
   "cell_type": "markdown",
   "id": "41b5a364",
   "metadata": {},
   "source": [
    "**Question 4**\n",
    "\n",
    "Given a singly linked list of characters, write a function that returns true if the given list is a palindrome, else false.\n",
    "\n",
    "!https://media.geeksforgeeks.org/wp-content/uploads/20220816144425/LLdrawio.png\n",
    "\n",
    "**Examples:**\n",
    "\n",
    "> Input: R->A->D->A->R->NULL\n",
    "> \n",
    "> \n",
    "> **Output:** Yes\n",
    "> \n",
    "> **Input:** C->O->D->E->NULL\n",
    "> \n",
    "> **Output:** No\n",
    "> \n"
   ]
  },
  {
   "cell_type": "code",
   "execution_count": 12,
   "id": "5d56d2b6",
   "metadata": {},
   "outputs": [],
   "source": [
    "class ListNode:\n",
    "    def __init__(self, data=None):\n",
    "        self.data = data\n",
    "        self.next = None\n",
    "\n",
    "def is_palindrome(head):\n",
    "    if head is None or head.next is None:\n",
    "        return True  # An empty list or a list with one node is considered a palindrome\n",
    "\n",
    "    slow_ptr = head\n",
    "    fast_ptr = head\n",
    "    prev_ptr = None\n",
    "\n",
    "    # Find the middle node(s) using the hare and tortoise algorithm\n",
    "    while fast_ptr is not None and fast_ptr.next is not None:\n",
    "        fast_ptr = fast_ptr.next.next\n",
    "        prev_ptr = slow_ptr\n",
    "        slow_ptr = slow_ptr.next\n",
    "\n",
    "    # Reverse the second half of the linked list\n",
    "    prev_ptr.next = None  # Break the connection between the first and second halves\n",
    "    second_half_head = reverse_linked_list(slow_ptr)\n",
    "\n",
    "    # Compare the reversed second half with the first half\n",
    "    first_half_ptr = head\n",
    "    second_half_ptr = second_half_head\n",
    "\n",
    "    while first_half_ptr is not None and second_half_ptr is not None:\n",
    "        if first_half_ptr.data != second_half_ptr.data:\n",
    "            return \"No\"\n",
    "        first_half_ptr = first_half_ptr.next\n",
    "        second_half_ptr = second_half_ptr.next\n",
    "\n",
    "    return \"Yes\"\n",
    "\n",
    "def reverse_linked_list(head):\n",
    "    prev_ptr = None\n",
    "    curr_ptr = head\n",
    "\n",
    "    while curr_ptr is not None:\n",
    "        next_ptr = curr_ptr.next\n",
    "        curr_ptr.next = prev_ptr\n",
    "        prev_ptr = curr_ptr\n",
    "        curr_ptr = next_ptr\n",
    "\n",
    "    return prev_ptr"
   ]
  },
  {
   "cell_type": "code",
   "execution_count": 13,
   "id": "b680a2dc",
   "metadata": {},
   "outputs": [
    {
     "name": "stdout",
     "output_type": "stream",
     "text": [
      "Yes\n",
      "No\n"
     ]
    }
   ],
   "source": [
    "# Create the linked list: R->A->D->A->R\n",
    "head = ListNode('R')\n",
    "head.next = ListNode('A')\n",
    "head.next.next = ListNode('D')\n",
    "head.next.next.next = ListNode('A')\n",
    "head.next.next.next.next = ListNode('R')\n",
    "\n",
    "is_palindrome_flag = is_palindrome(head)\n",
    "print(is_palindrome_flag)\n",
    "\n",
    "# Create the linked list: C->O->D->E\n",
    "head = ListNode('C')\n",
    "head.next = ListNode('O')\n",
    "head.next.next = ListNode('D')\n",
    "head.next.next.next = ListNode('E')\n",
    "\n",
    "is_palindrome_flag = is_palindrome(head)\n",
    "print(is_palindrome_flag)\n"
   ]
  },
  {
   "cell_type": "markdown",
   "id": "6414bfc2",
   "metadata": {},
   "source": [
    "**Question 5**\n",
    "\n",
    "Given a linked list of **N** nodes such that it may contain a loop.\n",
    "\n",
    "A loop here means that the last node of the link list is connected to the node at position X(1-based index). If the link list does not have any loop, X=0.\n",
    "\n",
    "Remove the loop from the linked list, if it is present, i.e. unlink the last node which is forming the loop.\n",
    "\n",
    "**Example 1:**\n",
    "\n",
    "Input:\n",
    "N = 3\n",
    "value[] = {1,3,4}\n",
    "X = 2\n",
    "Output:1\n",
    "Explanation:The link list looks like\n",
    "1 -> 3 -> 4\n",
    "     ^    |\n",
    "     |____|\n",
    "A loop is present. If you remove it\n",
    "successfully, the answer will be 1.\n",
    "\n",
    "\n",
    "**Example 2:**\n",
    "\n",
    "Input:\n",
    "N = 4\n",
    "value[] = {1,8,3,4}\n",
    "X = 0\n",
    "Output:1\n",
    "Explanation:The Linked list does not\n",
    "contains any loop.\n",
    "\n",
    "**Example 3:**\n",
    "    \n",
    "Input:\n",
    "N = 4\n",
    "value[] = {1,2,3,4}\n",
    "X = 1\n",
    "Output:1\n",
    "Explanation:The link list looks like\n",
    "1 -> 2 -> 3 -> 4\n",
    "^              |\n",
    "|______________|\n",
    "A loop is present.\n",
    "If you remove it successfully,\n",
    "the answer will be 1."
   ]
  },
  {
   "cell_type": "code",
   "execution_count": 14,
   "id": "bc423cdf",
   "metadata": {},
   "outputs": [],
   "source": [
    "class ListNode:\n",
    "    def __init__(self, data=None):\n",
    "        self.data = data\n",
    "        self.next = None\n",
    "\n",
    "def remove_loop(head):\n",
    "    if head is None or head.next is None:\n",
    "        return head\n",
    "\n",
    "    slow_ptr = head\n",
    "    fast_ptr = head\n",
    "\n",
    "    # Detect the loop using the hare and tortoise algorithm\n",
    "    while fast_ptr is not None and fast_ptr.next is not None:\n",
    "        slow_ptr = slow_ptr.next\n",
    "        fast_ptr = fast_ptr.next.next\n",
    "\n",
    "        if slow_ptr == fast_ptr:\n",
    "            break\n",
    "\n",
    "    # If no loop is present, return the original linked list\n",
    "    if slow_ptr != fast_ptr:\n",
    "        return head\n",
    "\n",
    "    # Move slow_ptr to the head and find the start of the loop\n",
    "    slow_ptr = head\n",
    "    while slow_ptr.next != fast_ptr.next:\n",
    "        slow_ptr = slow_ptr.next\n",
    "        fast_ptr = fast_ptr.next\n",
    "\n",
    "    # Unlink the last node from the linked list to remove the loop\n",
    "    fast_ptr.next = None\n",
    "\n",
    "    return head\n"
   ]
  },
  {
   "cell_type": "code",
   "execution_count": 15,
   "id": "073c75a7",
   "metadata": {},
   "outputs": [
    {
     "name": "stdout",
     "output_type": "stream",
     "text": [
      "1 3 4 "
     ]
    }
   ],
   "source": [
    "# Create the linked list: 1->3->4 with a loop at position 2 (connecting tail to the second node)\n",
    "head = ListNode(1)\n",
    "head.next = ListNode(3)\n",
    "head.next.next = ListNode(4)\n",
    "head.next.next.next = head.next\n",
    "\n",
    "new_head = remove_loop(head)\n",
    "\n",
    "# Print the modified linked list\n",
    "current = new_head\n",
    "while current is not None:\n",
    "    print(current.data, end=\" \")\n",
    "    current = current.next"
   ]
  },
  {
   "cell_type": "code",
   "execution_count": 16,
   "id": "1c0c9254",
   "metadata": {},
   "outputs": [
    {
     "name": "stdout",
     "output_type": "stream",
     "text": [
      "1 8 3 4 "
     ]
    }
   ],
   "source": [
    "# Create the linked list: 1->8->3->4 without any loop\n",
    "head = ListNode(1)\n",
    "head.next = ListNode(8)\n",
    "head.next.next = ListNode(3)\n",
    "head.next.next.next = ListNode(4)\n",
    "\n",
    "new_head = remove_loop(head)\n",
    "\n",
    "# Print the modified linked list\n",
    "current = new_head\n",
    "while current is not None:\n",
    "    print(current.data, end=\" \")\n",
    "    current = current.next"
   ]
  },
  {
   "cell_type": "code",
   "execution_count": 17,
   "id": "7e534ab1",
   "metadata": {},
   "outputs": [
    {
     "name": "stdout",
     "output_type": "stream",
     "text": [
      "1 "
     ]
    }
   ],
   "source": [
    "# Create the linked list: 1->2->3->4 with a loop at position 1 (connecting tail to the first node)\n",
    "head = ListNode(1)\n",
    "head.next = ListNode(2)\n",
    "head.next.next = ListNode(3)\n",
    "head.next.next.next = ListNode(4)\n",
    "head.next.next.next.next = head\n",
    "\n",
    "new_head = remove_loop(head)\n",
    "\n",
    "# Print the modified linked list\n",
    "current = new_head\n",
    "while current is not None:\n",
    "    print(current.data, end=\" \")\n",
    "    current = current.next"
   ]
  },
  {
   "cell_type": "markdown",
   "id": "d04732d1",
   "metadata": {},
   "source": [
    "**Question 6**\n",
    "\n",
    "Given a linked list and two integers M and N. Traverse the linked list such that you retain M nodes then delete next N nodes, continue the same till end of the linked list.\n",
    "\n",
    "Difficulty Level: Rookie\n",
    "\n",
    "**Examples**:\n",
    "    \n",
    "Input:\n",
    "M = 2, N = 2\n",
    "Linked List: 1->2->3->4->5->6->7->8\n",
    "Output:\n",
    "Linked List: 1->2->5->6\n",
    "\n",
    "Input:\n",
    "M = 3, N = 2\n",
    "Linked List: 1->2->3->4->5->6->7->8->9->10\n",
    "Output:\n",
    "Linked List: 1->2->3->6->7->8\n",
    "\n",
    "Input:\n",
    "M = 1, N = 1\n",
    "Linked List: 1->2->3->4->5->6->7->8->9->10\n",
    "Output:\n",
    "Linked List: 1->3->5->7->9\n"
   ]
  },
  {
   "cell_type": "code",
   "execution_count": 18,
   "id": "98dae5de",
   "metadata": {},
   "outputs": [],
   "source": [
    "class ListNode:\n",
    "    def __init__(self, data=None):\n",
    "        self.data = data\n",
    "        self.next = None\n",
    "\n",
    "def retain_and_delete(head, M, N):\n",
    "    if head is None or M <= 0 or N <= 0:\n",
    "        return head\n",
    "\n",
    "    new_head = head\n",
    "    current = new_head\n",
    "\n",
    "    while current:\n",
    "        # Retain M nodes\n",
    "        for _ in range(M - 1):\n",
    "            if current is None:\n",
    "                return new_head\n",
    "            current = current.next\n",
    "\n",
    "        if current is None:\n",
    "            return new_head\n",
    "\n",
    "        # Delete N nodes\n",
    "        next_group_start = current.next\n",
    "        for _ in range(N):\n",
    "            if next_group_start is None:\n",
    "                current.next = None\n",
    "                return new_head\n",
    "            next_group_start = next_group_start.next\n",
    "\n",
    "        current.next = next_group_start\n",
    "        current = current.next\n",
    "\n",
    "    return new_head\n"
   ]
  },
  {
   "cell_type": "code",
   "execution_count": 19,
   "id": "99e47456",
   "metadata": {},
   "outputs": [
    {
     "name": "stdout",
     "output_type": "stream",
     "text": [
      "1 2 5 6 "
     ]
    }
   ],
   "source": [
    "# Create the linked list: 1->2->3->4->5->6->7->8\n",
    "head = ListNode(1)\n",
    "head.next = ListNode(2)\n",
    "head.next.next = ListNode(3)\n",
    "head.next.next.next = ListNode(4)\n",
    "head.next.next.next.next = ListNode(5)\n",
    "head.next.next.next.next.next = ListNode(6)\n",
    "head.next.next.next.next.next.next = ListNode(7)\n",
    "head.next.next.next.next.next.next.next = ListNode(8)\n",
    "\n",
    "new_head = retain_and_delete(head, 2, 2)\n",
    "\n",
    "# Print the modified linked list\n",
    "current = new_head\n",
    "while current is not None:\n",
    "    print(current.data, end=\" \")\n",
    "    current = current.next"
   ]
  },
  {
   "cell_type": "code",
   "execution_count": 20,
   "id": "ecc64cb4",
   "metadata": {},
   "outputs": [
    {
     "name": "stdout",
     "output_type": "stream",
     "text": [
      "1 2 3 6 7 8 "
     ]
    }
   ],
   "source": [
    "# Create the linked list: 1->2->3->4->5->6->7->8->9->10\n",
    "head = ListNode(1)\n",
    "head.next = ListNode(2)\n",
    "head.next.next = ListNode(3)\n",
    "head.next.next.next = ListNode(4)\n",
    "head.next.next.next.next = ListNode(5)\n",
    "head.next.next.next.next.next = ListNode(6)\n",
    "head.next.next.next.next.next.next = ListNode(7)\n",
    "head.next.next.next.next.next.next.next = ListNode(8)\n",
    "head.next.next.next.next.next.next.next.next = ListNode(9)\n",
    "head.next.next.next.next.next.next.next.next.next = ListNode(10)\n",
    "\n",
    "new_head = retain_and_delete(head, 3, 2)\n",
    "\n",
    "# Print the modified linked list\n",
    "current = new_head\n",
    "while current is not None:\n",
    "    print(current.data, end=\" \")\n",
    "    current = current.next"
   ]
  },
  {
   "cell_type": "code",
   "execution_count": 21,
   "id": "f1281705",
   "metadata": {},
   "outputs": [
    {
     "name": "stdout",
     "output_type": "stream",
     "text": [
      "1 3 5 7 9 "
     ]
    }
   ],
   "source": [
    "# Create the linked list: 1->2->3->4->5->6->7->8->9->10\n",
    "head = ListNode(1)\n",
    "head.next = ListNode(2)\n",
    "head.next.next = ListNode(3)\n",
    "head.next.next.next = ListNode(4)\n",
    "head.next.next.next.next = ListNode(5)\n",
    "head.next.next.next.next.next = ListNode(6)\n",
    "head.next.next.next.next.next.next = ListNode(7)\n",
    "head.next.next.next.next.next.next.next = ListNode(8)\n",
    "head.next.next.next.next.next.next.next.next = ListNode(9)\n",
    "head.next.next.next.next.next.next.next.next.next = ListNode(10)\n",
    "\n",
    "new_head = retain_and_delete(head, 1, 1)\n",
    "\n",
    "# Print the modified linked list\n",
    "current = new_head\n",
    "while current is not None:\n",
    "    print(current.data, end=\" \")\n",
    "    current = current.next"
   ]
  },
  {
   "cell_type": "markdown",
   "id": "b8380cc0",
   "metadata": {},
   "source": [
    "**Question 7**\n",
    "\n",
    "Given two linked lists, insert nodes of second list into first list at alternate positions of first list.\n",
    "For example, if first list is 5->7->17->13->11 and second is 12->10->2->4->6, the first list should become 5->12->7->10->17->2->13->4->11->6 and second list should become empty. The nodes of second list should only be inserted when there are positions available. For example, if the first list is 1->2->3 and second list is 4->5->6->7->8, then first list should become 1->4->2->5->3->6 and second list to 7->8.\n",
    "\n",
    "Use of extra space is not allowed (Not allowed to create additional nodes), i.e., insertion must be done in-place. Expected time complexity is O(n) where n is number of nodes in first list.\n"
   ]
  },
  {
   "cell_type": "code",
   "execution_count": 22,
   "id": "37c12f63",
   "metadata": {},
   "outputs": [],
   "source": [
    "class ListNode:\n",
    "    def __init__(self, data=None):\n",
    "        self.data = data\n",
    "        self.next = None\n",
    "\n",
    "def merge_lists(first_head, second_head):\n",
    "    if first_head is None:\n",
    "        return second_head\n",
    "    if second_head is None:\n",
    "        return first_head\n",
    "\n",
    "    first_ptr = first_head\n",
    "    second_ptr = second_head\n",
    "\n",
    "    while first_ptr is not None and second_ptr is not None:\n",
    "        first_next = first_ptr.next\n",
    "        second_next = second_ptr.next\n",
    "\n",
    "        second_ptr.next = first_next\n",
    "        first_ptr.next = second_ptr\n",
    "\n",
    "        first_ptr = first_next\n",
    "        second_ptr = second_next\n",
    "\n",
    "    if second_ptr is not None:\n",
    "        first_ptr.next = second_ptr\n",
    "\n",
    "    second_head = None\n",
    "\n",
    "    return first_head\n"
   ]
  },
  {
   "cell_type": "code",
   "execution_count": 23,
   "id": "687fe866",
   "metadata": {},
   "outputs": [
    {
     "name": "stdout",
     "output_type": "stream",
     "text": [
      "5 12 7 10 17 2 13 4 11 6 "
     ]
    }
   ],
   "source": [
    "# Create the first linked list: 5->7->17->13->11\n",
    "first_head = ListNode(5)\n",
    "first_head.next = ListNode(7)\n",
    "first_head.next.next = ListNode(17)\n",
    "first_head.next.next.next = ListNode(13)\n",
    "first_head.next.next.next.next = ListNode(11)\n",
    "\n",
    "# Create the second linked list: 12->10->2->4->6\n",
    "second_head = ListNode(12)\n",
    "second_head.next = ListNode(10)\n",
    "second_head.next.next = ListNode(2)\n",
    "second_head.next.next.next = ListNode(4)\n",
    "second_head.next.next.next.next = ListNode(6)\n",
    "\n",
    "merged_head = merge_lists(first_head, second_head)\n",
    "\n",
    "# Print the modified first linked list\n",
    "current = merged_head\n",
    "while current is not None:\n",
    "    print(current.data, end=\" \")\n",
    "    current = current.next"
   ]
  },
  {
   "cell_type": "code",
   "execution_count": 25,
   "id": "9c438387",
   "metadata": {},
   "outputs": [
    {
     "name": "stdout",
     "output_type": "stream",
     "text": [
      "12 7 10 17 2 13 4 11 6 "
     ]
    }
   ],
   "source": [
    "# Print the modified second linked list\n",
    "current = second_head\n",
    "while current is not None:\n",
    "    print(current.data, end=\" \")\n",
    "    current = current.next\n"
   ]
  },
  {
   "cell_type": "markdown",
   "id": "bdce9de3",
   "metadata": {},
   "source": [
    "**Question 8**\n",
    "\n",
    "Given a singly linked list, find if the linked list is(https://www.geeksforgeeks.org/circular-linked-list/amp/) or not.\n",
    "\n",
    "> A linked list is called circular if it is not NULL-terminated and all nodes are connected in the form of a cycle. Below is an example of a circular linked list.\n",
    "> "
   ]
  },
  {
   "cell_type": "code",
   "execution_count": 26,
   "id": "a2585158",
   "metadata": {},
   "outputs": [],
   "source": [
    "class ListNode:\n",
    "    def __init__(self, data=None):\n",
    "        self.data = data\n",
    "        self.next = None\n",
    "\n",
    "def is_circular_linked_list(head):\n",
    "    if head is None:\n",
    "        return False\n",
    "\n",
    "    slow = head\n",
    "    fast = head\n",
    "\n",
    "    while fast is not None and fast.next is not None:\n",
    "        slow = slow.next\n",
    "        fast = fast.next.next\n",
    "\n",
    "        if slow == fast:\n",
    "            return True\n",
    "\n",
    "    return False\n"
   ]
  },
  {
   "cell_type": "code",
   "execution_count": 27,
   "id": "f4e29545",
   "metadata": {},
   "outputs": [
    {
     "name": "stdout",
     "output_type": "stream",
     "text": [
      "True\n"
     ]
    }
   ],
   "source": [
    "# Create a circular linked list: 10->12->14->16\n",
    "head = ListNode(10)\n",
    "head.next = ListNode(12)\n",
    "head.next.next = ListNode(14)\n",
    "head.next.next.next = ListNode(16)\n",
    "head.next.next.next.next = head\n",
    "\n",
    "result = is_circular_linked_list(head)\n",
    "print(result)"
   ]
  },
  {
   "cell_type": "code",
   "execution_count": null,
   "id": "591d53ac",
   "metadata": {},
   "outputs": [],
   "source": []
  }
 ],
 "metadata": {
  "kernelspec": {
   "display_name": "Python 3 (ipykernel)",
   "language": "python",
   "name": "python3"
  },
  "language_info": {
   "codemirror_mode": {
    "name": "ipython",
    "version": 3
   },
   "file_extension": ".py",
   "mimetype": "text/x-python",
   "name": "python",
   "nbconvert_exporter": "python",
   "pygments_lexer": "ipython3",
   "version": "3.9.12"
  }
 },
 "nbformat": 4,
 "nbformat_minor": 5
}
